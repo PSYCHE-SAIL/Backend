{
 "cells": [
  {
   "cell_type": "code",
   "execution_count": 1,
   "metadata": {},
   "outputs": [],
   "source": [
    "import json\n",
    "from sklearn.feature_extraction.text import TfidfVectorizer\n",
    "from sklearn.svm import SVC\n",
    "\n",
    "# Load data from JSON file\n",
    "def load_data(filename):\n",
    "  with open(filename, 'r') as f:\n",
    "    data = json.load(f)\n",
    "  messages = [message['message'] for message in data]\n",
    "  stress_levels = [message['stress_level'] for message in data]\n",
    "  return messages, stress_levels\n",
    "\n"
   ]
  },
  {
   "cell_type": "code",
   "execution_count": 2,
   "metadata": {},
   "outputs": [],
   "source": [
    "import re\n",
    "import nltk\n",
    "from nltk.stem import WordNetLemmatizer\n",
    "lemmatizer = WordNetLemmatizer()\n",
    "\n",
    "def preprocess_text(text):\n",
    "  text = text.lower()  # Lowercase conversion\n",
    "  text = re.sub(r\"[^a-z0-9\\s]\", \"\", text)  # Remove punctuation\n",
    "  text = re.sub(r\"\\s+\", \" \", text)  # Remove extra spaces\n",
    "  # Add stemming or lemmatization (comment out one)\n",
    "  # text = stemmer.stem(text)  # Stemming (reduce words to their root form)\n",
    "  text = lemmatizer.lemmatize(text)  # Lemmatization (reduce words to their dictionary form)\n",
    "  return text"
   ]
  },
  {
   "cell_type": "code",
   "execution_count": 3,
   "metadata": {},
   "outputs": [],
   "source": [
    "# Train the SVM model\n",
    "def train_svm(messages, stress_levels):\n",
    "  # Preprocess text data\n",
    "  preprocessed_messages = [preprocess_text(message) for message in messages]\n",
    "\n",
    "  # Feature extraction using TF-IDF vectorizer\n",
    "  vectorizer = TfidfVectorizer()\n",
    "  features = vectorizer.fit_transform(preprocessed_messages)\n",
    "\n",
    "  # Train the SVM model\n",
    "  model = SVC(kernel='linear')  # You can experiment with different kernels\n",
    "  model.fit(features, stress_levels)\n",
    "  return model, vectorizer\n"
   ]
  },
  {
   "cell_type": "code",
   "execution_count": 4,
   "metadata": {},
   "outputs": [],
   "source": [
    "\n",
    "# Load data\n",
    "messages, stress_levels = load_data('train.json')  # Replace with your actual filename\n",
    "\n",
    "# Train the model\n",
    "model, vectorizer = train_svm(messages, stress_levels)\n",
    "\n"
   ]
  },
  {
   "cell_type": "code",
   "execution_count": 25,
   "metadata": {},
   "outputs": [
    {
     "name": "stdout",
     "output_type": "stream",
     "text": [
      "Predicted stress level for ' hi jyothika is sleeping ' : 4\n"
     ]
    }
   ],
   "source": [
    "# Example usage: predict stress level for a new message\n",
    "new_message = \"hi jyothika is sleeping\"\n",
    "preprocessed_message = preprocess_text(new_message)\n",
    "new_message_features = vectorizer.transform([preprocessed_message])\n",
    "predicted_stress_level = model.predict(new_message_features)[0]\n",
    "\n",
    "print(\"Predicted stress level for '\", new_message, \"' :\", predicted_stress_level)\n"
   ]
  },
  {
   "cell_type": "code",
   "execution_count": null,
   "metadata": {},
   "outputs": [],
   "source": []
  },
  {
   "cell_type": "code",
   "execution_count": null,
   "metadata": {},
   "outputs": [],
   "source": []
  }
 ],
 "metadata": {
  "kernelspec": {
   "display_name": "PsycheSail",
   "language": "python",
   "name": "python3"
  },
  "language_info": {
   "codemirror_mode": {
    "name": "ipython",
    "version": 3
   },
   "file_extension": ".py",
   "mimetype": "text/x-python",
   "name": "python",
   "nbconvert_exporter": "python",
   "pygments_lexer": "ipython3",
   "version": "3.10.14"
  }
 },
 "nbformat": 4,
 "nbformat_minor": 2
}
